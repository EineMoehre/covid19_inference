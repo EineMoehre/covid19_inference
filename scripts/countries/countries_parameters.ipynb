{
 "cells": [
  {
   "cell_type": "code",
   "execution_count": 1,
   "metadata": {},
   "outputs": [],
   "source": [
    "import json\n",
    "import datetime"
   ]
  },
  {
   "cell_type": "markdown",
   "metadata": {},
   "source": [
    "# Creating a data object for each Country\n",
    "\n",
    "Available here at the moment: Austria, Belgium, Czechia, Denmark, France, Netherland, Poland, Switzerland (Luxembourg ignored for now)\n",
    "\n",
    "\n",
    "We create an countries dictonary which hold each country with change points and populationb size. In the format we use in the model! "
   ]
  },
  {
   "cell_type": "code",
   "execution_count": 2,
   "metadata": {},
   "outputs": [],
   "source": [
    "countries = {}"
   ]
  },
  {
   "cell_type": "markdown",
   "metadata": {},
   "source": [
    "By running this whole file i.e. `%run countries_parameters.ipynb` you get this countries dictionary."
   ]
  },
  {
   "cell_type": "markdown",
   "metadata": {},
   "source": [
    "## Austria\n",
    "https://github.com/Konrad982/covid19_inference/blob/master/scripts/Austria_JHU.ipynb\n",
    "\n",
    "For the choice of changing points, see https://www.imperial.ac.uk/media/imperial-college/medicine/mrc-gida/2020-03-30-COVID19-Report-13.pdf, https://en.wikipedia.org/wiki/2020_coronavirus_pandemic_in_Austria"
   ]
  },
  {
   "cell_type": "code",
   "execution_count": 3,
   "metadata": {},
   "outputs": [],
   "source": [
    "prior_date_public_events_banned =  datetime.datetime(2020,3,10)\n",
    "prior_date_confinement_begin =  datetime.datetime(2020,3,16)\n",
    "prior_date_mask_obligation = datetime.datetime(2020,3,30)\n",
    "prior_date_easter_begin =  datetime.datetime(2020,4,10)\n",
    "prior_date_easter_end =  datetime.datetime(2020,4,13)\n",
    "\n",
    "change_points = [dict(pr_mean_date_transient = prior_date_public_events_banned,\n",
    "                      pr_sigma_date_transient = 3, #lower\n",
    "                      pr_median_lambda = 0.2,\n",
    "                      pr_sigma_lambda = 1),\n",
    "                dict(pr_mean_date_transient = prior_date_confinement_begin,\n",
    "                      pr_sigma_date_transient = 3, #lower\n",
    "                      pr_median_lambda = 1/8,\n",
    "                      pr_sigma_lambda = 1),\n",
    "                 dict(pr_mean_date_transient = prior_date_mask_obligation,\n",
    "                      pr_sigma_date_transient = 6,\n",
    "                      pr_median_lambda = 1/16,\n",
    "                      pr_sigma_lambda = 1),\n",
    "                dict(pr_mean_date_transient = prior_date_easter_begin,\n",
    "                      pr_sigma_date_transient = 3, #lower\n",
    "                      pr_median_lambda = 1/8,\n",
    "                      pr_sigma_lambda = 1),\n",
    "                dict(pr_mean_date_transient = prior_date_easter_end,\n",
    "                      pr_sigma_date_transient = 3, #lower\n",
    "                      pr_median_lambda = 1/16,\n",
    "                      pr_sigma_lambda = 1)]\n",
    "\n",
    "countries[\"Austria\"] = {\n",
    "        \"N_population\" : 8.86e6,\n",
    "        \"change_points\" : change_points,\n",
    "        \n",
    "}"
   ]
  },
  {
   "cell_type": "markdown",
   "metadata": {},
   "source": [
    "## Belgium\n",
    "\n",
    "https://en.wikipedia.org/wiki/COVID-19_pandemic_in_Belgium#Timeline\n",
    "\n",
    "https://www.euractiv.com/section/coronavirus/news/belgium-enters-lockdown-over-coronavirus-crisis-until-5-april/"
   ]
  },
  {
   "cell_type": "code",
   "execution_count": 4,
   "metadata": {},
   "outputs": [],
   "source": [
    "prior_date_public_events_banned = datetime.datetime(2020,3,13)\n",
    "prior_date_lockdown = datetime.datetime(2020,3,18)\n",
    "prior_date_mask_mandatory_in_public = datetime.datetime(2020,5,4)\n",
    "\n",
    "change_points = [dict(pr_mean_date_transient = prior_date_public_events_banned,\n",
    "                      pr_sigma_date_transient = 3, #lower\n",
    "                      pr_median_lambda = 0.2,\n",
    "                      pr_sigma_lambda = 1),\n",
    "                dict(pr_mean_date_transient = prior_date_lockdown,\n",
    "                      pr_sigma_date_transient = 3, #lower\n",
    "                      pr_median_lambda = 1/8,\n",
    "                      pr_sigma_lambda = 1),\n",
    "                 dict(pr_mean_date_transient = prior_date_mask_mandatory_in_public,\n",
    "                      pr_sigma_date_transient = 6,\n",
    "                      pr_median_lambda = 1/16,\n",
    "                      pr_sigma_lambda = 1)]\n",
    "countries[\"Belgium\"] = {\n",
    "        \"N_population\" : 11.46e6,\n",
    "        \"change_points\" : change_points\n",
    "}"
   ]
  },
  {
   "cell_type": "markdown",
   "metadata": {},
   "source": [
    "# Czechia\n",
    "https://github.com/Konrad982/covid19_inference/blob/master/scripts/Czech_Republic_JHU.ipynb\n",
    "\n",
    "https://en.wikipedia.org/wiki/COVID-19_pandemic_in_the_Czech_Republic"
   ]
  },
  {
   "cell_type": "code",
   "execution_count": 5,
   "metadata": {},
   "outputs": [],
   "source": [
    "prior_date_quarantine = datetime.datetime(2020,3,7)\n",
    "prior_date_closures =  datetime.datetime(2020,3,13)\n",
    "prior_date_curfew =  datetime.datetime(2020,3,16)\n",
    "prior_date_curfew_loosened =  datetime.datetime(2020,4,24)\n",
    "\n",
    "change_points = [dict(pr_mean_date_transient = prior_date_quarantine,\n",
    "                      pr_sigma_date_transient = 6, \n",
    "                      pr_median_lambda = 0.35,\n",
    "                      pr_sigma_lambda = 1),\n",
    "                dict(pr_mean_date_transient = prior_date_closures,\n",
    "                      pr_sigma_date_transient = 3, #reduced\n",
    "                      pr_median_lambda = 0.3,\n",
    "                      pr_sigma_lambda = 1),\n",
    "                 dict(pr_mean_date_transient = prior_date_curfew,\n",
    "                      pr_sigma_date_transient = 3, #reduced\n",
    "                      pr_median_lambda = 1/16,\n",
    "                      pr_sigma_lambda = 1),\n",
    "                dict(pr_mean_date_transient = prior_date_curfew_loosened,\n",
    "                      pr_sigma_date_transient = 6,\n",
    "                      pr_median_lambda = 1/8,\n",
    "                      pr_sigma_lambda = 1)]\n",
    "\n",
    "countries[\"Czechia\"] = {\n",
    "        \"N_population\" : 10.65e6,\n",
    "        \"change_points\" : change_points\n",
    "}"
   ]
  },
  {
   "cell_type": "markdown",
   "metadata": {},
   "source": [
    "# Denmark\n",
    "\n",
    "https://en.wikipedia.org/wiki/COVID-19_pandemic_in_Denmark#Timeline\n",
    "\n",
    "https://www.euronews.com/2020/05/08/coronavirus-denmark-and-norway-further-relax-covid-19-restrictions"
   ]
  },
  {
   "cell_type": "code",
   "execution_count": 6,
   "metadata": {},
   "outputs": [],
   "source": [
    "prior_date_big_events_canceled = datetime.datetime(2020, 3, 11)\n",
    "prior_date_lockdown_public_sector = datetime.datetime(2020,3,13)\n",
    "prior_date_schools_closed = datetime.datetime(2020,3,16)\n",
    "prior_date_contact_ban = datetime.datetime(2020,3,18)\n",
    "prior_date_schools_reopen = datetime.datetime(2020,3,11)\n",
    "\n",
    "change_points = [dict(pr_mean_date_transient = prior_date_big_events_canceled,\n",
    "                      pr_sigma_date_transient = 6, \n",
    "                      pr_median_lambda = 0.35,\n",
    "                      pr_sigma_lambda = 1),\n",
    "                dict(pr_mean_date_transient = prior_date_lockdown_public_sector,\n",
    "                      pr_sigma_date_transient = 3,\n",
    "                      pr_median_lambda = 0.3,\n",
    "                      pr_sigma_lambda = 1),\n",
    "                 dict(pr_mean_date_transient = prior_date_schools_closed,\n",
    "                      pr_sigma_date_transient = 3,\n",
    "                      pr_median_lambda = 1/16,\n",
    "                      pr_sigma_lambda = 1),\n",
    "                dict(pr_mean_date_transient = prior_date_contact_ban,\n",
    "                      pr_sigma_date_transient = 3,\n",
    "                      pr_median_lambda = 1/8,\n",
    "                      pr_sigma_lambda = 1),\n",
    "                dict(pr_mean_date_transient = prior_date_schools_reopen,\n",
    "                      pr_sigma_date_transient = 3,\n",
    "                      pr_median_lambda = 1/8,\n",
    "                      pr_sigma_lambda = 1)]\n",
    "\n",
    "countries[\"Denmark\"] = {\n",
    "        \"N_population\" : 5.8e6,\n",
    "        \"change_points\" : change_points\n",
    "}"
   ]
  },
  {
   "cell_type": "markdown",
   "metadata": {},
   "source": [
    "# France\n",
    "\n",
    "https://github.com/Konrad982/covid19_inference/blob/master/scripts/France_JHU.ipynb\n",
    "\n",
    "https://en.wikipedia.org/wiki/2020_coronavirus_pandemic_in_France"
   ]
  },
  {
   "cell_type": "code",
   "execution_count": 7,
   "metadata": {},
   "outputs": [],
   "source": [
    "prior_date_macron_speech = datetime.datetime(2020,3,12)\n",
    "prior_date_confinement_begin =  datetime.datetime(2020,3,17)\n",
    "prior_date_stronger_measures =  datetime.datetime(2020,3,24)\n",
    "prior_date_before_easter = datetime.datetime(2020,4,10)\n",
    "prior_date_after_easter = datetime.datetime(2020,4,13)\n",
    "\n",
    "change_points = [dict(pr_mean_date_transient = prior_date_macron_speech,\n",
    "                      pr_sigma_date_transient = 4, #reduced due to closeness to the confinement begin\n",
    "                      pr_median_lambda = 0.3,\n",
    "                      pr_sigma_lambda = 1),\n",
    "                dict(pr_mean_date_transient = prior_date_confinement_begin,\n",
    "                      pr_sigma_date_transient = 4, #reduced\n",
    "                      pr_median_lambda = 1/8,\n",
    "                      pr_sigma_lambda = 1),\n",
    "                dict(pr_mean_date_transient = prior_date_stronger_measures,\n",
    "                      pr_sigma_date_transient = 6,\n",
    "                      pr_median_lambda = 1/16,\n",
    "                      pr_sigma_lambda = 1),\n",
    "                dict(pr_mean_date_transient = prior_date_before_easter,\n",
    "                      pr_sigma_date_transient = 3, #reduced\n",
    "                      pr_median_lambda = 1/8,\n",
    "                      pr_sigma_lambda = 1),\n",
    "                dict(pr_mean_date_transient = prior_date_after_easter,\n",
    "                      pr_sigma_date_transient = 3, #reduced\n",
    "                      pr_median_lambda = 1/16,\n",
    "                      pr_sigma_lambda = 1)]\n",
    "\n",
    "countries[\"France\"] = {\n",
    "        \"N_population\" : 67e6,\n",
    "        \"change_points\" : change_points\n",
    "}"
   ]
  },
  {
   "cell_type": "markdown",
   "metadata": {},
   "source": [
    "# Netherlands\n",
    "\n",
    "https://github.com/Konrad982/covid19_inference/blob/master/scripts/Netherlands_JHU.ipynb\n",
    "\n",
    "https://en.wikipedia.org/wiki/2020_coronavirus_pandemic_in_the_Netherlands"
   ]
  },
  {
   "cell_type": "code",
   "execution_count": 8,
   "metadata": {},
   "outputs": [],
   "source": [
    "prior_date_brabant_closures = datetime.datetime(2020,3,11)\n",
    "prior_date_stricter =  datetime.datetime(2020,3,15)\n",
    "prior_date_social_distancing =  datetime.datetime(2020,3,23)\n",
    "prior_date_easter_begin = datetime.datetime(2020,4,10)\n",
    "prior_date_easter_end = datetime.datetime(2020,4,13)\n",
    "\n",
    "change_points = [dict(pr_mean_date_transient = prior_date_brabant_closures,\n",
    "                      pr_sigma_date_transient = 3, #reduced due to closeness to the next\n",
    "                      pr_median_lambda = 0.3,\n",
    "                      pr_sigma_lambda = 1),\n",
    "                dict(pr_mean_date_transient = prior_date_stricter,\n",
    "                      pr_sigma_date_transient = 3, #reduced\n",
    "                      pr_median_lambda = 0.2,\n",
    "                      pr_sigma_lambda = 1),\n",
    "                dict(pr_mean_date_transient = prior_date_social_distancing,\n",
    "                      pr_sigma_date_transient = 6,\n",
    "                      pr_median_lambda = 1/8,\n",
    "                      pr_sigma_lambda = 1),\n",
    "                dict(pr_mean_date_transient = prior_date_easter_begin,\n",
    "                      pr_sigma_date_transient = 3, #reduced\n",
    "                      pr_median_lambda = 0.1,\n",
    "                      pr_sigma_lambda = 1),\n",
    "                dict(pr_mean_date_transient = prior_date_easter_end,\n",
    "                      pr_sigma_date_transient = 3, #reduced\n",
    "                      pr_median_lambda = 1/8,\n",
    "                      pr_sigma_lambda = 1)]\n",
    "\n",
    "countries[\"Netherlands\"] = {\n",
    "            \"N_population\" : 17.3e6,\n",
    "            \"change_points\" : change_points\n",
    "}"
   ]
  },
  {
   "cell_type": "markdown",
   "metadata": {},
   "source": [
    "# Poland\n",
    "\n",
    "https://en.wikipedia.org/wiki/COVID-19_pandemic_in_Poland#Timeline"
   ]
  },
  {
   "cell_type": "code",
   "execution_count": 9,
   "metadata": {},
   "outputs": [],
   "source": [
    "prior_date_cancel_all_mass_events = datetime.datetime(2020,3,10)\n",
    "prior_date_schools_closed = datetime.datetime(2020,3,12)\n",
    "prior_date_restriction_on_public_gatherings = datetime.datetime(2020,3,24)\n",
    "prior_date_schools_opened_again = datetime.datetime(2020,4,10)\n",
    "\n",
    "change_points = [dict(pr_mean_date_transient = prior_date_cancel_all_mass_events,\n",
    "                      pr_sigma_date_transient = 3, \n",
    "                      pr_median_lambda = 0.3,\n",
    "                      pr_sigma_lambda = 1),\n",
    "                dict(pr_mean_date_transient = prior_date_schools_closed,\n",
    "                      pr_sigma_date_transient = 3,\n",
    "                      pr_median_lambda = 0.2,\n",
    "                      pr_sigma_lambda = 1),\n",
    "                dict(pr_mean_date_transient = prior_date_restriction_on_public_gatherings,\n",
    "                      pr_sigma_date_transient = 6,\n",
    "                      pr_median_lambda = 1/8,\n",
    "                      pr_sigma_lambda = 1),\n",
    "                dict(pr_mean_date_transient = prior_date_schools_opened_again,\n",
    "                      pr_sigma_date_transient = 3, \n",
    "                      pr_median_lambda = 0.1,\n",
    "                      pr_sigma_lambda = 1)]\n",
    "\n",
    "countries[\"Poland\"] = {\n",
    "        \"N_population\" : 37.97e6,\n",
    "        \"change_points\" : change_points\n",
    "}"
   ]
  },
  {
   "cell_type": "markdown",
   "metadata": {},
   "source": [
    "# Switzerland\n",
    "\n",
    "https://en.wikipedia.org/wiki/COVID-19_pandemic_in_Switzerland#Timeline"
   ]
  },
  {
   "cell_type": "code",
   "execution_count": 10,
   "metadata": {},
   "outputs": [],
   "source": [
    "prior_date_cancel_all_mass_events = datetime.datetime(2020,2,28)\n",
    "prior_date_close_schools = datetime.datetime(2020,3,13)\n",
    "prior_date_more_public_measures = datetime.datetime(2020,3,16)\n",
    "prior_date_public_gathering_prohibited = datetime.datetime(2020,3,20)\n",
    "prior_date_looseing_mesures_phase_1 = datetime.datetime(2020,4,27)\n",
    "\n",
    "change_points = [dict(pr_mean_date_transient = prior_date_cancel_all_mass_events,\n",
    "                      pr_sigma_date_transient = 3, \n",
    "                      pr_median_lambda = 0.3,\n",
    "                      pr_sigma_lambda = 1),\n",
    "                dict(pr_mean_date_transient = prior_date_close_schools,\n",
    "                      pr_sigma_date_transient = 3,\n",
    "                      pr_median_lambda = 0.2,\n",
    "                      pr_sigma_lambda = 1),\n",
    "                dict(pr_mean_date_transient = prior_date_more_public_measures,\n",
    "                      pr_sigma_date_transient = 3,\n",
    "                      pr_median_lambda = 1/8,\n",
    "                      pr_sigma_lambda = 1),\n",
    "                dict(pr_mean_date_transient = prior_date_looseing_mesures_phase_1,\n",
    "                      pr_sigma_date_transient = 3, \n",
    "                      pr_median_lambda = 0.1,\n",
    "                      pr_sigma_lambda = 1)]\n",
    "\n",
    "countries[\"Switzerland\"] = {\n",
    "            \"N_population\": 8.57e6,\n",
    "            \"change_points\" : change_points\n",
    "}"
   ]
  }
 ],
 "metadata": {
  "kernelspec": {
   "display_name": "Python 3",
   "language": "python",
   "name": "python3"
  },
  "language_info": {
   "codemirror_mode": {
    "name": "ipython",
    "version": 3
   },
   "file_extension": ".py",
   "mimetype": "text/x-python",
   "name": "python",
   "nbconvert_exporter": "python",
   "pygments_lexer": "ipython3",
   "version": "3.7.7"
  }
 },
 "nbformat": 4,
 "nbformat_minor": 1
}
